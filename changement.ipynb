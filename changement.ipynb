{
 "cells": [
  {
   "cell_type": "code",
   "execution_count": null,
   "metadata": {},
   "outputs": [],
   "source": [
    "@contextmanager\n",
    "def timer(title):\n",
    "    t0 = time.time()\n",
    "    yield\n",
    "    print(\"{} - done in {:.0f}s\".format(title, time.time() - t0))\n",
    "\n",
    "\n",
    "# Evaluate the model\n",
    "def evaluate_model(X, y, model,smote = True):\n",
    "    # K-Fold on the data\n",
    "    time0 = time.time()\n",
    "    cv = StratifiedKFold(n_splits=10)\n",
    "    f2_scorer = make_scorer(fbeta_score, beta = 2.0)\n",
    "    scoring = {'recall': 'recall',\n",
    "            'f1_score': 'f1',\n",
    "            'roc_auc': 'roc_auc',\n",
    "            'f2beta':f2_scorer}\n",
    "    if smote:\n",
    "        over = SMOTE(sampling_strategy=0.1, k_neighbors=5, random_state=12)\n",
    "        under = RandomUnderSampler(sampling_strategy = 0.8, random_state=12)\n",
    "        steps = [(\"over\", over), (\"under\", under), (\"classifier\",model)]\n",
    "        pipeline = imbpipeline(steps = steps)\n",
    "    else:\n",
    "        pipeline = imbpipeline(steps = [['classifier',model]])\n",
    "    scores = cross_validate(pipeline, X, y, scoring=scoring, cv=cv, n_jobs=-1,verbose = 100)\n",
    "    time_end = time0 - time.time()\n",
    "    \n",
    "    return scores, time_end\n",
    "\n",
    "def extract_x_y(df):\n",
    "    X = np.array(df.loc[:, df.columns != 'TARGET'])\n",
    "    y = np.array(df.loc[:, df.columns == 'TARGET']).reshape(-1, 1)\n",
    "\n",
    "    return X, y\n",
    "\n",
    "def scale(X, y):\n",
    "    scaler = StandardScaler()\n",
    "    X = scaler.fit_transform(X)\n",
    "    y = y\n",
    "    return X, y\n",
    "    \n",
    "    \n",
    "def test_model(models,names, X, y, smote = True):\n",
    "    results = {}\n",
    "    dict_time = {}\n",
    "    for i in range(len(models)):\n",
    "        print(names[i])\n",
    "        with timer(\"Test model :\" + names[i]):\n",
    "            if names[i] == \"LR\":\n",
    "                X, y = scale(X, y)\n",
    "            score, time = evaluate_model(X, y, models[i], smote = smote)\n",
    "            \n",
    "            results[names[i]] = [score[\"test_recall\"].mean(),\n",
    "                                score[\"test_f1_score\"].mean(),\n",
    "                                score[\"test_roc_auc\"].mean(),\n",
    "                                score[\"test_f2beta\"].mean(),\n",
    "                                time]\n",
    "            print(names[i],pd.DataFrame.from_dict(score)[[\"test_recall\",\"test_f1_score\",\"test_roc_auc\",\"test_f2beta\"]].mean())\n",
    "    return results\n",
    "    \n",
    "def get_models():\n",
    "    models, names = list(), list()\n",
    "    # SVM\n",
    "    models.append(LogisticRegression(solver = \"lbfgs\", max_iter = 1000, random_state = 42))\n",
    "    names.append('LR')\n",
    "    \n",
    "    models.append(xgb.XGBClassifier())\n",
    "    names.append('XGB')\n",
    "    \n",
    "    models.append(MLPClassifier(hidden_layer_sizes=(150,100,50), max_iter=300,activation = 'relu',solver='adam',random_state=1))\n",
    "    names.append('MLP')\n",
    "    \n",
    "    models.append(LGBMClassifier())\n",
    "    names.append('LGMB')\n",
    "    \n",
    "    return models, names\n",
    "    \n",
    "def full_test_pipeline(smote = True, test_size=0.95):\n",
    "\n",
    "    df, _ = train_test_split(train_df, test_size=test_size, stratify=train_df['TARGET'], random_state=11)\n",
    "\n",
    "    print(\"Test effectué sur \", df.shape, \" données\")   \n",
    "    df = df.replace([np.inf, -np.inf], 0)    \n",
    "    \n",
    "    with timer(\"split_df\"):\n",
    "        X, y = extract_x_y(df)\n",
    "        del df\n",
    "        gc.collect()\n",
    "\n",
    "    with timer (\"Models\"):\n",
    "         models, names = get_models()\n",
    "                  \n",
    "    with timer(\"test_model\"):\n",
    "        results = test_model(models, names, X, y, smote = smote)\n",
    "    return results\n"
   ]
  },
  {
   "attachments": {},
   "cell_type": "markdown",
   "metadata": {},
   "source": [
    "Avec le lancement de cette fonction nous arrivons à ces résultats  \n",
    "Le roc_auc est sensiblement identique mais les autres métriques sont bien optimisées avec la balance des données"
   ]
  },
  {
   "cell_type": "code",
   "execution_count": null,
   "id": "c96a61db",
   "metadata": {},
   "outputs": [
    {
     "data": {
      "text/html": [
       "<div>\n",
       "<style scoped>\n",
       "    .dataframe tbody tr th:only-of-type {\n",
       "        vertical-align: middle;\n",
       "    }\n",
       "\n",
       "    .dataframe tbody tr th {\n",
       "        vertical-align: top;\n",
       "    }\n",
       "\n",
       "    .dataframe thead th {\n",
       "        text-align: right;\n",
       "    }\n",
       "</style>\n",
       "<table border=\"1\" class=\"dataframe\">\n",
       "  <thead>\n",
       "    <tr style=\"text-align: right;\">\n",
       "      <th></th>\n",
       "      <th>test_recall</th>\n",
       "      <th>test_f1_score</th>\n",
       "      <th>test_roc_auc</th>\n",
       "      <th>test_f2beta</th>\n",
       "      <th>time</th>\n",
       "      <th>test_recall_SM</th>\n",
       "      <th>test_f1_score_SM</th>\n",
       "      <th>test_roc_auc_SM</th>\n",
       "      <th>test_f2beta_SM</th>\n",
       "      <th>time_SM</th>\n",
       "    </tr>\n",
       "  </thead>\n",
       "  <tbody>\n",
       "    <tr>\n",
       "      <th>LR</th>\n",
       "      <td>0.033132</td>\n",
       "      <td>0.061938</td>\n",
       "      <td>0.765670</td>\n",
       "      <td>0.040704</td>\n",
       "      <td>112.965640</td>\n",
       "      <td>0.621752</td>\n",
       "      <td>0.286039</td>\n",
       "      <td>0.760408</td>\n",
       "      <td>0.423103</td>\n",
       "      <td>33.625179</td>\n",
       "    </tr>\n",
       "    <tr>\n",
       "      <th>XGB</th>\n",
       "      <td>0.064350</td>\n",
       "      <td>0.112145</td>\n",
       "      <td>0.761221</td>\n",
       "      <td>0.077572</td>\n",
       "      <td>242.767492</td>\n",
       "      <td>0.585901</td>\n",
       "      <td>0.284672</td>\n",
       "      <td>0.753700</td>\n",
       "      <td>0.411649</td>\n",
       "      <td>60.921040</td>\n",
       "    </tr>\n",
       "    <tr>\n",
       "      <th>MLP</th>\n",
       "      <td>0.154582</td>\n",
       "      <td>0.175467</td>\n",
       "      <td>0.649375</td>\n",
       "      <td>0.162092</td>\n",
       "      <td>481.493485</td>\n",
       "      <td>0.567372</td>\n",
       "      <td>0.226332</td>\n",
       "      <td>0.682286</td>\n",
       "      <td>0.353753</td>\n",
       "      <td>58.059823</td>\n",
       "    </tr>\n",
       "    <tr>\n",
       "      <th>LGMB</th>\n",
       "      <td>0.039980</td>\n",
       "      <td>0.074108</td>\n",
       "      <td>0.774302</td>\n",
       "      <td>0.049007</td>\n",
       "      <td>30.440036</td>\n",
       "      <td>0.600403</td>\n",
       "      <td>0.304574</td>\n",
       "      <td>0.772235</td>\n",
       "      <td>0.432392</td>\n",
       "      <td>17.389580</td>\n",
       "    </tr>\n",
       "  </tbody>\n",
       "</table>\n",
       "</div>"
      ],
      "text/plain": [
       "      test_recall  test_f1_score  test_roc_auc  test_f2beta        time  \\\n",
       "LR       0.033132       0.061938      0.765670     0.040704  112.965640   \n",
       "XGB      0.064350       0.112145      0.761221     0.077572  242.767492   \n",
       "MLP      0.154582       0.175467      0.649375     0.162092  481.493485   \n",
       "LGMB     0.039980       0.074108      0.774302     0.049007   30.440036   \n",
       "\n",
       "      test_recall_SM  test_f1_score_SM  test_roc_auc_SM  test_f2beta_SM  \\\n",
       "LR          0.621752          0.286039         0.760408        0.423103   \n",
       "XGB         0.585901          0.284672         0.753700        0.411649   \n",
       "MLP         0.567372          0.226332         0.682286        0.353753   \n",
       "LGMB        0.600403          0.304574         0.772235        0.432392   \n",
       "\n",
       "        time_SM  \n",
       "LR    33.625179  \n",
       "XGB   60.921040  \n",
       "MLP   58.059823  \n",
       "LGMB  17.389580  "
      ]
     },
     "metadata": {},
     "output_type": "display_data"
    }
   ],
   "source": [
    "results = results_pipeline_ns_df.join(results_pipeline_df, how =\"left\", on=None, rsuffix=\"_SM\")\n",
    "results"
   ]
  },
  {
   "attachments": {},
   "cell_type": "markdown",
   "metadata": {},
   "source": [
    "# Résultats des baselines"
   ]
  },
  {
   "cell_type": "code",
   "execution_count": null,
   "metadata": {},
   "outputs": [],
   "source": [
    "def eval_k_smote(smote = False, best_k = False):\n",
    "    model_lgbm = lgb.LGBMClassifier(n_jobs = -1, random_state = 42,\n",
    "     objective = \"binary\",\n",
    "     n_estimators = 10000)\n",
    "                        \n",
    "    f2_scorer = make_scorer(fbeta_score, beta = 2.0)\n",
    "    fit_params={'lgbm__early_stopping_rounds': 100,\n",
    "                'lgbm__eval_metric':\"auc\",   \n",
    "                'lgbm__verbose': True,\n",
    "                'lgbm__eval_set': eval_set}\n",
    "\n",
    "    scoring = {'recall': 'recall',\n",
    "           'f1_score': 'f1',\n",
    "           'roc_auc': 'roc_auc'}\n",
    "    \n",
    "    if smote :\n",
    "        over = SMOTE(sampling_strategy=0.20)\n",
    "        under = RandomUnderSampler(sampling_strategy = 0.7)\n",
    "        steps = [(\"over\", over), (\"under\", under), (\"lgbm\",model_lgbm)]\n",
    "        pipeline_smote = Pipeline(steps=steps)\n",
    "        pipeline = pipeline_smote\n",
    "        if best_k :\n",
    "            k_values = [1,2,3,4,5,6,7] \n",
    "            for k in k_values:\n",
    "                over = SMOTE(sampling_strategy=0.20, k_neighbors=k)\n",
    "                under = RandomUnderSampler(sampling_strategy = 0.7)\n",
    "                steps = [(\"over\", over), (\"under\", under), (\"lgbm\",model_lgbm)]\n",
    "                pipeline_smote = Pipeline(steps=steps)\n",
    "                pipeline = pipeline_smote\n",
    "                cv_results = cross_validate(pipeline, train_x, train_y, \n",
    "                                            cv = cv, \n",
    "                                            scoring = scoring, \n",
    "                                            fit_params = fit_params, \n",
    "                                            n_jobs=-1, \n",
    "                                            error_score='raise')\n",
    "                print(\"for k = \",k, pd.DataFrame.from_dict(cv_results).mean())\n",
    "\n",
    "        else:\n",
    "            cv_results = cross_validate(pipeline, train_x, train_y, \n",
    "                                            cv = cv, \n",
    "                                            scoring = scoring, \n",
    "                                            fit_params = fit_params, \n",
    "                                            n_jobs=-1, \n",
    "                                            error_score='raise')\n",
    "        print(pd.DataFrame.from_dict(cv_results).mean())\n",
    "\n",
    "    else:\n",
    "        pipeline = Pipeline([(\"lgbm\",model_lgbm)])\n",
    "        cv_results = cross_validate(pipeline, train_x, train_y, \n",
    "                                            cv = cv, \n",
    "                                            scoring = scoring, \n",
    "                                            fit_params = fit_params, \n",
    "                                            n_jobs=-1, \n",
    "                                            error_score='raise')\n",
    "        print(pd.DataFrame.from_dict(cv_results).mean())"
   ]
  },
  {
   "attachments": {},
   "cell_type": "markdown",
   "metadata": {},
   "source": [
    "## Sans balance"
   ]
  },
  {
   "cell_type": "code",
   "execution_count": null,
   "metadata": {},
   "outputs": [
    {
     "name": "stdout",
     "output_type": "stream",
     "text": [
      "fit_time         26.726419\n",
      "score_time        1.009668\n",
      "test_recall       0.041793\n",
      "test_f1_score     0.077515\n",
      "test_roc_auc      0.779373\n",
      "dtype: float64\n"
     ]
    }
   ],
   "source": [
    "eval_k_smote(smote = False)"
   ]
  },
  {
   "attachments": {},
   "cell_type": "markdown",
   "metadata": {},
   "source": [
    "## Avec balance"
   ]
  },
  {
   "cell_type": "code",
   "execution_count": null,
   "metadata": {},
   "outputs": [
    {
     "name": "stdout",
     "output_type": "stream",
     "text": [
      "fit_time         41.210590\n",
      "score_time        1.195398\n",
      "test_recall       0.317221\n",
      "test_f1_score     0.312033\n",
      "test_roc_auc      0.778377\n",
      "dtype: float64\n"
     ]
    }
   ],
   "source": [
    "eval_k_smote(smote = True)\n"
   ]
  },
  {
   "cell_type": "markdown",
   "metadata": {},
   "source": [
    "# Cout métier"
   ]
  },
  {
   "attachments": {},
   "cell_type": "markdown",
   "metadata": {},
   "source": [
    "Après sélection des features et optimisation des paramètres"
   ]
  },
  {
   "cell_type": "code",
   "execution_count": null,
   "metadata": {},
   "outputs": [],
   "source": [
    "# Recherche des meilleurs seuils avec un coût métier\n",
    "\n",
    "annuity_mean = new_train[\"AMT_ANNUITY\"].mean()\n",
    "loan_mean = new_train[\"AMT_CREDIT\"].mean()\n",
    "positive = len(valid_y[valid_y == 1])\n",
    "negative = len(valid_y[valid_y == 0])\n",
    "#Make the more money\n",
    "scoring1 = ((1-fpr)*annuity_mean*negative) - ((1-tpr)*loan_mean*positive)\n",
    "#Make money and save the more customers\n",
    "scoring2 = ((1-fpr)*annuity_mean*negative) - ((1-tpr)*loan_mean*positive) - (fpr * annuity_mean*negative)"
   ]
  },
  {
   "attachments": {},
   "cell_type": "markdown",
   "metadata": {},
   "source": [
    "## Sans balance"
   ]
  },
  {
   "attachments": {},
   "cell_type": "markdown",
   "metadata": {},
   "source": [
    "Le seuil est très rabaissé pour avoir un cout métier qui soit bon (4.1 %)"
   ]
  },
  {
   "cell_type": "code",
   "execution_count": null,
   "metadata": {},
   "outputs": [
    {
     "name": "stdout",
     "output_type": "stream",
     "text": [
      "Best Threshold=0.041476, scoring=376926807.416\n",
      "Accuracy score for Testing Dataset =  0.5208611102077981\n",
      "Roc auc score for Testing Dataset =  0.6820705334960444\n",
      "Fbeta score for Testing Dataset =  0.40918088415496273\n",
      "F1 score for Testing Dataset =  0.22757536041939713\n",
      "Recall score for Testing Dataset =  0.8743202416918429\n"
     ]
    },
    {
     "data": {
      "image/png": "[encoded data removed]",
      "text/plain": [
       "<Figure size 640x480 with 2 Axes>"
      ]
     },
     "metadata": {},
     "output_type": "display_data"
    },
    {
     "name": "stdout",
     "output_type": "stream",
     "text": [
      "Bon crédit accordé: 27693\n",
      "Perte de bons clients: 28844 soit 51.02 %\n",
      "Mauvais crédit accordé: 624 soit 12.57 %\n",
      "benefit :  376926807.0\n",
      "Loose for credit refused : 781922741.0\n",
      "save_money for credit refused :  2600383138.0\n"
     ]
    }
   ],
   "source": [
    "# best balance profit / loose\n",
    "ix = np.argmax(scoring1)\n",
    "print('Best Threshold=%f, scoring=%.3f' % (thresholds[ix], scoring1[ix]))\n",
    "test_pred_tresh = (model.predict_proba(valid_x)[:,1] >= thresholds[ix]).astype(int) \n",
    "results(valid_y, test_pred_tresh)\n",
    "best_tresh_scoring1 = thresholds[ix]"
   ]
  },
  {
   "cell_type": "code",
   "execution_count": null,
   "metadata": {},
   "outputs": [],
   "source": []
  },
  {
   "attachments": {},
   "cell_type": "markdown",
   "metadata": {},
   "source": [
    "## Avec balance"
   ]
  },
  {
   "attachments": {},
   "cell_type": "markdown",
   "metadata": {},
   "source": [
    "Moins de mauvais crédit sont acceptés et le seuil se retrouve beaucoup plus haut (25%)\n",
    "Cependant le bénéfice coût métier est légèrement plus bas"
   ]
  },
  {
   "cell_type": "code",
   "execution_count": null,
   "metadata": {},
   "outputs": [
    {
     "name": "stdout",
     "output_type": "stream",
     "text": [
      "Best Threshold=0.251173, scoring=375666329.052\n",
      "Accuracy score for Testing Dataset =  0.5077558453383629\n",
      "Roc auc score for Testing Dataset =  0.6782494601428565\n",
      "Fbeta score for Testing Dataset =  0.4058564990820245\n",
      "F1 score for Testing Dataset =  0.22430050220354616\n",
      "Recall score for Testing Dataset =  0.881570996978852\n"
     ]
    },
    {
     "data": {
      "image/png": "[encoded data removed]",
      "text/plain": [
       "<Figure size 640x480 with 2 Axes>"
      ]
     },
     "metadata": {},
     "output_type": "display_data"
    },
    {
     "name": "stdout",
     "output_type": "stream",
     "text": [
      "Bon crédit accordé: 26851\n",
      "Perte de bons clients: 29686 soit 52.51 %\n",
      "Mauvais crédit accordé: 588 soit 11.84 %\n",
      "benefit :  375666329.0\n",
      "Loose for credit refused : 804748249.0\n",
      "save_money for credit refused :  2621948168.0\n"
     ]
    }
   ],
   "source": [
    "# best balance profit / loose\n",
    "ix = np.argmax(scoring1)\n",
    "print('Best Threshold=%f, scoring=%.3f' % (thresholds[ix], scoring1[ix]))\n",
    "test_pred_tresh = (model.predict_proba(valid_x)[:,1] >= thresholds[ix]).astype(int) \n",
    "results(valid_y, test_pred_tresh)\n",
    "best_tresh_scoring1 = thresholds[ix]"
   ]
  }
 ],
 "metadata": {
  "kernelspec": {
   "display_name": "base",
   "language": "python",
   "name": "python3"
  },
  "language_info": {
   "codemirror_mode": {
    "name": "ipython",
    "version": 3
   },
   "file_extension": ".py",
   "mimetype": "text/x-python",
   "name": "python",
   "nbconvert_exporter": "python",
   "pygments_lexer": "ipython3",
   "version": "3.9.12"
  },
  "orig_nbformat": 4,
  "vscode": {
   "interpreter": {
    "hash": "ad2bdc8ecc057115af97d19610ffacc2b4e99fae6737bb82f5d7fb13d2f2c186"
   }
  }
 },
 "nbformat": 4,
 "nbformat_minor": 2
}
